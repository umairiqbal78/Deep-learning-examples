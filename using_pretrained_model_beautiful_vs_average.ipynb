{
  "nbformat": 4,
  "nbformat_minor": 0,
  "metadata": {
    "colab": {
      "name": "using_pretrained_model_beautiful_vs_average.ipynb",
      "provenance": [],
      "collapsed_sections": [],
      "authorship_tag": "ABX9TyMbZhkj3lWidSBaFgd6ccdm",
      "include_colab_link": true
    },
    "kernelspec": {
      "name": "python3",
      "display_name": "Python 3"
    }
  },
  "cells": [
    {
      "cell_type": "markdown",
      "metadata": {
        "id": "view-in-github",
        "colab_type": "text"
      },
      "source": [
        "<a href=\"https://colab.research.google.com/github/umairiqbal78/Deep-learning-examples/blob/master/using_pretrained_model_beautiful_vs_average.ipynb\" target=\"_parent\"><img src=\"https://colab.research.google.com/assets/colab-badge.svg\" alt=\"Open In Colab\"/></a>"
      ]
    },
    {
      "cell_type": "code",
      "metadata": {
        "id": "DKgp4doTCK7L",
        "outputId": "b97808a4-c9e2-4e3b-be8c-c48446d6b5db",
        "colab": {
          "base_uri": "https://localhost:8080/"
        }
      },
      "source": [
        "import os\n",
        "from google.colab import drive\n",
        "drive.mount('/content/drive')"
      ],
      "execution_count": null,
      "outputs": [
        {
          "output_type": "stream",
          "text": [
            "Mounted at /content/drive\n"
          ],
          "name": "stdout"
        }
      ]
    },
    {
      "cell_type": "code",
      "metadata": {
        "id": "Nl-mhr08mmMz"
      },
      "source": [
        "from tensorflow.keras.models import load_model\n",
        "model = load_model(\"/content/drive/My Drive/beautiful_and_average_dataset/beautiful_and_average_datasetmodel_beautiful_vs_avg1.h5\")  "
      ],
      "execution_count": null,
      "outputs": []
    },
    {
      "cell_type": "code",
      "metadata": {
        "id": "aG9k0OBL3GcA"
      },
      "source": [
        "train_dir = \"/content/drive/My Drive/beautiful_and_average_dataset/train\"\n",
        "val_dir = \"/content/drive/My Drive/beautiful_and_average_dataset/valid\"\n",
        "test_dir = \"/content/drive/My Drive/beautiful_and_average_dataset/test\""
      ],
      "execution_count": null,
      "outputs": []
    },
    {
      "cell_type": "code",
      "metadata": {
        "id": "0a8RUlBLysWI"
      },
      "source": [
        "validation_beautiful_dir = \"/content/drive/My Drive/beautiful_and_average_dataset/valid/beautiful\"\n",
        "validation_average_dir = \"/content/drive/My Drive/beautiful_and_average_dataset/valid/average\""
      ],
      "execution_count": null,
      "outputs": []
    },
    {
      "cell_type": "code",
      "metadata": {
        "id": "pqcF5YxW1DF4"
      },
      "source": [
        "train_beautiful_dir = \"/content/drive/My Drive/beautiful_and_average_dataset/train/beautiful\"\n",
        "train_average_dir = \"/content/drive/My Drive/beautiful_and_average_dataset/train/average\""
      ],
      "execution_count": null,
      "outputs": []
    },
    {
      "cell_type": "code",
      "metadata": {
        "id": "ZWhLtKuA1LkU"
      },
      "source": [
        "test_beautiful_dir = \"/content/drive/My Drive/beautiful_and_average_dataset/test/beautiful\"\n",
        "test_average_dir = \"/content/drive/My Drive/beautiful_and_average_dataset/test/average\""
      ],
      "execution_count": null,
      "outputs": []
    },
    {
      "cell_type": "code",
      "metadata": {
        "id": "WizDMEWDNUe1",
        "outputId": "94b619b9-effe-495b-92ba-6b033a4f61e9",
        "colab": {
          "base_uri": "https://localhost:8080/"
        }
      },
      "source": [
        "print('total validation_beautiful_images:', len(os.listdir(validation_beautiful_dir)))\n",
        "print('total validation_average_images:', len(os.listdir(validation_average_dir)))\n",
        "print('total  train_beautiful_images:', len(os.listdir(train_beautiful_dir)))\n",
        "print('total train_average_images:', len(os.listdir(train_average_dir)))\n",
        "print('total test_beautiful_images:', len(os.listdir(test_beautiful_dir)))\n",
        "print('total test_average_images:', len(os.listdir(test_beautiful_dir)))\n"
      ],
      "execution_count": null,
      "outputs": [
        {
          "output_type": "stream",
          "text": [
            "total validation_beautiful_images: 150\n",
            "total validation_average_images: 150\n",
            "total  train_beautiful_images: 2000\n",
            "total train_average_images: 2000\n",
            "total test_beautiful_images: 150\n",
            "total test_average_images: 150\n"
          ],
          "name": "stdout"
        }
      ]
    },
    {
      "cell_type": "code",
      "metadata": {
        "id": "rZYlKwptezg-",
        "outputId": "61e97531-0285-411e-a0c6-f38c1cee7890",
        "colab": {
          "base_uri": "https://localhost:8080/"
        }
      },
      "source": [
        "# 5.3 Using a pretrained convnet\n",
        "#Instantiating the VGG16 convolutional base\n",
        "from keras.applications import VGG16\n",
        "conv_base = VGG16(weights='imagenet',include_top=False,input_shape=(150, 150, 3))"
      ],
      "execution_count": null,
      "outputs": [
        {
          "output_type": "stream",
          "text": [
            "Downloading data from https://storage.googleapis.com/tensorflow/keras-applications/vgg16/vgg16_weights_tf_dim_ordering_tf_kernels_notop.h5\n",
            "58892288/58889256 [==============================] - 0s 0us/step\n"
          ],
          "name": "stdout"
        }
      ]
    },
    {
      "cell_type": "code",
      "metadata": {
        "id": "fFvQ4KMDnz1I",
        "outputId": "ef03955c-cc49-41a1-e6ff-6ad53824cbd9",
        "colab": {
          "base_uri": "https://localhost:8080/"
        }
      },
      "source": [
        "conv_base.summary()"
      ],
      "execution_count": null,
      "outputs": [
        {
          "output_type": "stream",
          "text": [
            "Model: \"vgg16\"\n",
            "_________________________________________________________________\n",
            "Layer (type)                 Output Shape              Param #   \n",
            "=================================================================\n",
            "input_1 (InputLayer)         [(None, 150, 150, 3)]     0         \n",
            "_________________________________________________________________\n",
            "block1_conv1 (Conv2D)        (None, 150, 150, 64)      1792      \n",
            "_________________________________________________________________\n",
            "block1_conv2 (Conv2D)        (None, 150, 150, 64)      36928     \n",
            "_________________________________________________________________\n",
            "block1_pool (MaxPooling2D)   (None, 75, 75, 64)        0         \n",
            "_________________________________________________________________\n",
            "block2_conv1 (Conv2D)        (None, 75, 75, 128)       73856     \n",
            "_________________________________________________________________\n",
            "block2_conv2 (Conv2D)        (None, 75, 75, 128)       147584    \n",
            "_________________________________________________________________\n",
            "block2_pool (MaxPooling2D)   (None, 37, 37, 128)       0         \n",
            "_________________________________________________________________\n",
            "block3_conv1 (Conv2D)        (None, 37, 37, 256)       295168    \n",
            "_________________________________________________________________\n",
            "block3_conv2 (Conv2D)        (None, 37, 37, 256)       590080    \n",
            "_________________________________________________________________\n",
            "block3_conv3 (Conv2D)        (None, 37, 37, 256)       590080    \n",
            "_________________________________________________________________\n",
            "block3_pool (MaxPooling2D)   (None, 18, 18, 256)       0         \n",
            "_________________________________________________________________\n",
            "block4_conv1 (Conv2D)        (None, 18, 18, 512)       1180160   \n",
            "_________________________________________________________________\n",
            "block4_conv2 (Conv2D)        (None, 18, 18, 512)       2359808   \n",
            "_________________________________________________________________\n",
            "block4_conv3 (Conv2D)        (None, 18, 18, 512)       2359808   \n",
            "_________________________________________________________________\n",
            "block4_pool (MaxPooling2D)   (None, 9, 9, 512)         0         \n",
            "_________________________________________________________________\n",
            "block5_conv1 (Conv2D)        (None, 9, 9, 512)         2359808   \n",
            "_________________________________________________________________\n",
            "block5_conv2 (Conv2D)        (None, 9, 9, 512)         2359808   \n",
            "_________________________________________________________________\n",
            "block5_conv3 (Conv2D)        (None, 9, 9, 512)         2359808   \n",
            "_________________________________________________________________\n",
            "block5_pool (MaxPooling2D)   (None, 4, 4, 512)         0         \n",
            "=================================================================\n",
            "Total params: 14,714,688\n",
            "Trainable params: 14,714,688\n",
            "Non-trainable params: 0\n",
            "_________________________________________________________________\n"
          ],
          "name": "stdout"
        }
      ]
    },
    {
      "cell_type": "code",
      "metadata": {
        "id": "qkd_rAzUoA8C",
        "outputId": "c8845cc4-3346-4f2c-ff50-e60a8bfe553a",
        "colab": {
          "base_uri": "https://localhost:8080/"
        }
      },
      "source": [
        "#FAST FEATURE EXTRACTION WITHOUT DATA AUGMENTATION\n",
        "#Extracting features using the pretrained convolutional base\n",
        "import os\n",
        "import numpy as np\n",
        "from keras.preprocessing.image import ImageDataGenerator\n",
        "\n",
        "datagen = ImageDataGenerator(rescale=1./255)\n",
        "batch_size = 20\n",
        "def extract_features(directory, sample_count):\n",
        "  features = np.zeros(shape=(sample_count, 4, 4, 512))\n",
        "  labels = np.zeros(shape=(sample_count))\n",
        "  generator = datagen.flow_from_directory(\n",
        "      directory,\n",
        "      target_size=(150, 150),\n",
        "      batch_size=batch_size,\n",
        "      class_mode='binary')\n",
        "  i=0\n",
        "  for inputs_batch, labels_batch in generator:\n",
        "    features_batch = conv_base.predict(inputs_batch)\n",
        "    features[i * batch_size : (i + 1) * batch_size] = features_batch\n",
        "    labels[i * batch_size : (i + 1) * batch_size] = labels_batch\n",
        "    i += 1\n",
        "    if i * batch_size >= sample_count:\n",
        "      break\n",
        "  return features, labels\n",
        "train_features, train_labels = extract_features(train_dir, 2000)\n",
        "validation_features, validation_labels = extract_features(val_dir, 300)\n",
        "test_features, test_labels = extract_features(test_dir, 300)"
      ],
      "execution_count": null,
      "outputs": [
        {
          "output_type": "stream",
          "text": [
            "Found 4000 images belonging to 2 classes.\n",
            "Found 300 images belonging to 2 classes.\n",
            "Found 300 images belonging to 2 classes.\n"
          ],
          "name": "stdout"
        }
      ]
    },
    {
      "cell_type": "code",
      "metadata": {
        "id": "oj5lJpzNcUsp"
      },
      "source": [
        "train_features = np.reshape(train_features, (2000, 4*4* 512))\n",
        "validation_features = np.reshape(validation_features, (300, 4*4* 512))\n",
        "test_features = np.reshape(test_features, (300, 4*4* 512))"
      ],
      "execution_count": null,
      "outputs": []
    },
    {
      "cell_type": "code",
      "metadata": {
        "id": "kE7l68VuENiw",
        "outputId": "5fe31e2f-34a7-48a3-f882-c25428fa2ae0",
        "colab": {
          "base_uri": "https://localhost:8080/",
          "height": 231
        }
      },
      "source": [
        "#Listing 5.18 Defining and training the densely connected classifier\n",
        "from keras import models\n",
        "from keras import layers\n",
        "from keras import optimizers\n",
        "\n",
        "model = models.Sequential()\n",
        "model.add(layers.Dense(256, activation='relu', input_dim = 4 * 4 * 512))\n",
        "model.add(layers.Dropout(0.5))\n",
        "model.add(layers.Dense(1, activation='sigmoid'))\n",
        "model.compile(optimizer=optimizers.RMSprop(lr=2e-5),\n",
        "              loss='binary_crossentropy',\n",
        "              metrics=['acc'])\n",
        "history = model.fit(train_features, train_labels,\n",
        "                    epochs=100,\n",
        "                    batch_size=20,\n",
        "                    validation_data=(validation_features, validation_labels))"
      ],
      "execution_count": null,
      "outputs": [
        {
          "output_type": "error",
          "ename": "NameError",
          "evalue": "ignored",
          "traceback": [
            "\u001b[0;31m---------------------------------------------------------------------------\u001b[0m",
            "\u001b[0;31mNameError\u001b[0m                                 Traceback (most recent call last)",
            "\u001b[0;32m<ipython-input-10-3594c35fd644>\u001b[0m in \u001b[0;36m<module>\u001b[0;34m()\u001b[0m\n\u001b[1;32m     11\u001b[0m               \u001b[0mloss\u001b[0m\u001b[0;34m=\u001b[0m\u001b[0;34m'binary_crossentropy'\u001b[0m\u001b[0;34m,\u001b[0m\u001b[0;34m\u001b[0m\u001b[0;34m\u001b[0m\u001b[0m\n\u001b[1;32m     12\u001b[0m               metrics=['acc'])\n\u001b[0;32m---> 13\u001b[0;31m history = model.fit(train_features, train_labels,\n\u001b[0m\u001b[1;32m     14\u001b[0m                     \u001b[0mepochs\u001b[0m\u001b[0;34m=\u001b[0m\u001b[0;36m100\u001b[0m\u001b[0;34m,\u001b[0m\u001b[0;34m\u001b[0m\u001b[0;34m\u001b[0m\u001b[0m\n\u001b[1;32m     15\u001b[0m                     \u001b[0mbatch_size\u001b[0m\u001b[0;34m=\u001b[0m\u001b[0;36m20\u001b[0m\u001b[0;34m,\u001b[0m\u001b[0;34m\u001b[0m\u001b[0;34m\u001b[0m\u001b[0m\n",
            "\u001b[0;31mNameError\u001b[0m: name 'train_features' is not defined"
          ]
        }
      ]
    },
    {
      "cell_type": "code",
      "metadata": {
        "id": "QfTa8mYjaifj",
        "outputId": "07c8a33c-5fe7-433f-d840-04e5a7ffc741",
        "colab": {
          "base_uri": "https://localhost:8080/",
          "height": 545
        }
      },
      "source": [
        "#Listing 5.19 Plotting the results\n",
        "import matplotlib.pyplot as plt\n",
        "acc = history.history['acc']\n",
        "val_acc = history.history['val_acc']\n",
        "loss = history.history['loss']\n",
        "val_loss = history.history['val_loss']\n",
        "epochs = range(1, len(acc) + 1)\n",
        "plt.plot(epochs, acc, 'bo', label='Training acc')\n",
        "plt.plot(epochs, val_acc, 'b', label='Validation acc')\n",
        "plt.title('Training and validation accuracy')\n",
        "plt.legend()\n",
        "plt.figure()\n",
        "plt.plot(epochs, loss, 'bo', label='Training loss')\n",
        "plt.plot(epochs, val_loss, 'b', label='Validation loss')\n",
        "plt.title('Training and validation loss')\n",
        "plt.legend()\n",
        "plt.show()"
      ],
      "execution_count": null,
      "outputs": [
        {
          "output_type": "display_data",
          "data": {
            "image/png": "[encoded data removed]",
            "text/plain": [
              "<Figure size 432x288 with 1 Axes>"
            ]
          },
          "metadata": {
            "tags": [],
            "needs_background": "light"
          }
        },
        {
          "output_type": "display_data",
          "data": {
            "image/png": "[encoded data removed]",
            "text/plain": [
              "<Figure size 432x288 with 1 Axes>"
            ]
          },
          "metadata": {
            "tags": [],
            "needs_background": "light"
          }
        }
      ]
    },
    {
      "cell_type": "code",
      "metadata": {
        "id": "0eLXZl08eED2"
      },
      "source": [
        "import pickle\n",
        "\n",
        "modelStoragePath = \"/content/drive/My Drive/beautiful_and_average_dataset/\"\n",
        "\n",
        "def saveData(model, history, iteration):\n",
        "    modelFile = modelStoragePath + \"pretrianed_model_beautiful_vs_avg\" + str(iteration).strip() + \".h5\"\n",
        "    historyFile = modelStoragePath + \"pretrained_History_beautiful_vs_avg\" + str(iteration).strip() + \".pkle\"\n",
        "    model.save(modelFile)\n",
        "    #saving history file too\n",
        "    with open(historyFile, 'wb') as file_pi:\n",
        "        pickle.dump(history.history, file_pi)\n",
        "    return modelFile, historyFile\n",
        "\n",
        "import tensorflow.keras.models\n",
        "def loadData(iteration):\n",
        "    modelFile = modelStoragePath + \"pretrianed_model_beautiful_vs_avg\" + str(iteration).strip() + \".h5\"\n",
        "    historyFile = modelStoragePath + \"pretrained_History_beautiful_vs_avg\" + str(iteration).strip() + \".pkle\"\n",
        "    model = models.load_model(modelFile)\n",
        "    with open(historyFile, 'rb') as file_pi:\n",
        "        history = pickle.load(file_pi)\n",
        "    return model, history"
      ],
      "execution_count": null,
      "outputs": []
    },
    {
      "cell_type": "code",
      "metadata": {
        "id": "5IOoaIwPgpk0",
        "outputId": "76bf75a4-efe0-4b09-d381-a0931a4fbe81",
        "colab": {
          "base_uri": "https://localhost:8080/"
        }
      },
      "source": [
        "print(type(history))\n",
        "modelFile, HistoryFile = saveData(model, history, iteration=1)\n",
        "print(modelFile, HistoryFile, \"Saved\")"
      ],
      "execution_count": null,
      "outputs": [
        {
          "output_type": "stream",
          "text": [
            "<class 'tensorflow.python.keras.callbacks.History'>\n",
            "/content/drive/My Drive/beautiful_and_average_dataset/pretrianed_model_beautiful_vs_avg1.h5 /content/drive/My Drive/beautiful_and_average_dataset/pretrained_History_beautiful_vs_avg1.pkle Saved\n"
          ],
          "name": "stdout"
        }
      ]
    },
    {
      "cell_type": "code",
      "metadata": {
        "id": "gzWGOgOGgtgK"
      },
      "source": [
        ""
      ],
      "execution_count": null,
      "outputs": []
    },
    {
      "cell_type": "code",
      "metadata": {
        "id": "hhvJkapA4Zxz"
      },
      "source": [
        "#FEATURE EXTRACTION WITH DATA AUGMENTATION\n",
        "#Listing 5.20 Adding a densely connected classifier on top of the convolutional base\n",
        "from keras import models\n",
        "from keras import layers\n",
        "model = models.Sequential()\n",
        "model.add(conv_base)\n",
        "model.add(layers.Flatten())\n",
        "model.add(layers.Dense(256, activation='relu'))\n",
        "model.add(layers.Dense(1, activation='sigmoid'))"
      ],
      "execution_count": null,
      "outputs": []
    },
    {
      "cell_type": "code",
      "metadata": {
        "id": "tIU7a-Y547V_",
        "outputId": "c57e3d9e-f56d-4006-d89d-bebcf140d76a",
        "colab": {
          "base_uri": "https://localhost:8080/"
        }
      },
      "source": [
        "model.summary()"
      ],
      "execution_count": null,
      "outputs": [
        {
          "output_type": "stream",
          "text": [
            "Model: \"sequential\"\n",
            "_________________________________________________________________\n",
            "Layer (type)                 Output Shape              Param #   \n",
            "=================================================================\n",
            "vgg16 (Functional)           (None, 4, 4, 512)         14714688  \n",
            "_________________________________________________________________\n",
            "flatten (Flatten)            (None, 8192)              0         \n",
            "_________________________________________________________________\n",
            "dense (Dense)                (None, 256)               2097408   \n",
            "_________________________________________________________________\n",
            "dense_1 (Dense)              (None, 1)                 257       \n",
            "=================================================================\n",
            "Total params: 16,812,353\n",
            "Trainable params: 9,177,089\n",
            "Non-trainable params: 7,635,264\n",
            "_________________________________________________________________\n"
          ],
          "name": "stdout"
        }
      ]
    },
    {
      "cell_type": "code",
      "metadata": {
        "id": "XChg-MXi1FHz",
        "outputId": "70d3b07c-591a-40b2-d0c0-5d8fb8454e9f",
        "colab": {
          "base_uri": "https://localhost:8080/"
        }
      },
      "source": [
        "conv_base.summary()"
      ],
      "execution_count": null,
      "outputs": [
        {
          "output_type": "stream",
          "text": [
            "Model: \"vgg16\"\n",
            "_________________________________________________________________\n",
            "Layer (type)                 Output Shape              Param #   \n",
            "=================================================================\n",
            "input_1 (InputLayer)         [(None, 150, 150, 3)]     0         \n",
            "_________________________________________________________________\n",
            "block1_conv1 (Conv2D)        (None, 150, 150, 64)      1792      \n",
            "_________________________________________________________________\n",
            "block1_conv2 (Conv2D)        (None, 150, 150, 64)      36928     \n",
            "_________________________________________________________________\n",
            "block1_pool (MaxPooling2D)   (None, 75, 75, 64)        0         \n",
            "_________________________________________________________________\n",
            "block2_conv1 (Conv2D)        (None, 75, 75, 128)       73856     \n",
            "_________________________________________________________________\n",
            "block2_conv2 (Conv2D)        (None, 75, 75, 128)       147584    \n",
            "_________________________________________________________________\n",
            "block2_pool (MaxPooling2D)   (None, 37, 37, 128)       0         \n",
            "_________________________________________________________________\n",
            "block3_conv1 (Conv2D)        (None, 37, 37, 256)       295168    \n",
            "_________________________________________________________________\n",
            "block3_conv2 (Conv2D)        (None, 37, 37, 256)       590080    \n",
            "_________________________________________________________________\n",
            "block3_conv3 (Conv2D)        (None, 37, 37, 256)       590080    \n",
            "_________________________________________________________________\n",
            "block3_pool (MaxPooling2D)   (None, 18, 18, 256)       0         \n",
            "_________________________________________________________________\n",
            "block4_conv1 (Conv2D)        (None, 18, 18, 512)       1180160   \n",
            "_________________________________________________________________\n",
            "block4_conv2 (Conv2D)        (None, 18, 18, 512)       2359808   \n",
            "_________________________________________________________________\n",
            "block4_conv3 (Conv2D)        (None, 18, 18, 512)       2359808   \n",
            "_________________________________________________________________\n",
            "block4_pool (MaxPooling2D)   (None, 9, 9, 512)         0         \n",
            "_________________________________________________________________\n",
            "block5_conv1 (Conv2D)        (None, 9, 9, 512)         2359808   \n",
            "_________________________________________________________________\n",
            "block5_conv2 (Conv2D)        (None, 9, 9, 512)         2359808   \n",
            "_________________________________________________________________\n",
            "block5_conv3 (Conv2D)        (None, 9, 9, 512)         2359808   \n",
            "_________________________________________________________________\n",
            "block5_pool (MaxPooling2D)   (None, 4, 4, 512)         0         \n",
            "=================================================================\n",
            "Total params: 14,714,688\n",
            "Trainable params: 7,079,424\n",
            "Non-trainable params: 7,635,264\n",
            "_________________________________________________________________\n"
          ],
          "name": "stdout"
        }
      ]
    },
    {
      "cell_type": "markdown",
      "metadata": {
        "id": "Qarxg5YfJLz0"
      },
      "source": [
        "## Fine tuning of pre-trained model"
      ]
    },
    {
      "cell_type": "code",
      "metadata": {
        "id": "c_Axk1Et1N7r"
      },
      "source": [
        "#Listing 5.22 Freezing all layers up to a specific one\n",
        "conv_base.trainable = True\n",
        "set_trainable = False\n",
        "for layer in conv_base.layers:\n",
        "  if layer.name == 'block5_conv1':\n",
        "    set_trainable = True\n",
        "  if set_trainable:\n",
        "    layer.trainable = True\n",
        "  else:\n",
        "    layer.trainable = False"
      ],
      "execution_count": null,
      "outputs": []
    },
    {
      "cell_type": "code",
      "metadata": {
        "id": "x9rKOQp21SHD",
        "outputId": "566ec05a-38a5-4eef-c92e-0ea2a291519d",
        "colab": {
          "base_uri": "https://localhost:8080/"
        }
      },
      "source": [
        "conv_base.summary()"
      ],
      "execution_count": null,
      "outputs": [
        {
          "output_type": "stream",
          "text": [
            "Model: \"vgg16\"\n",
            "_________________________________________________________________\n",
            "Layer (type)                 Output Shape              Param #   \n",
            "=================================================================\n",
            "input_1 (InputLayer)         [(None, 150, 150, 3)]     0         \n",
            "_________________________________________________________________\n",
            "block1_conv1 (Conv2D)        (None, 150, 150, 64)      1792      \n",
            "_________________________________________________________________\n",
            "block1_conv2 (Conv2D)        (None, 150, 150, 64)      36928     \n",
            "_________________________________________________________________\n",
            "block1_pool (MaxPooling2D)   (None, 75, 75, 64)        0         \n",
            "_________________________________________________________________\n",
            "block2_conv1 (Conv2D)        (None, 75, 75, 128)       73856     \n",
            "_________________________________________________________________\n",
            "block2_conv2 (Conv2D)        (None, 75, 75, 128)       147584    \n",
            "_________________________________________________________________\n",
            "block2_pool (MaxPooling2D)   (None, 37, 37, 128)       0         \n",
            "_________________________________________________________________\n",
            "block3_conv1 (Conv2D)        (None, 37, 37, 256)       295168    \n",
            "_________________________________________________________________\n",
            "block3_conv2 (Conv2D)        (None, 37, 37, 256)       590080    \n",
            "_________________________________________________________________\n",
            "block3_conv3 (Conv2D)        (None, 37, 37, 256)       590080    \n",
            "_________________________________________________________________\n",
            "block3_pool (MaxPooling2D)   (None, 18, 18, 256)       0         \n",
            "_________________________________________________________________\n",
            "block4_conv1 (Conv2D)        (None, 18, 18, 512)       1180160   \n",
            "_________________________________________________________________\n",
            "block4_conv2 (Conv2D)        (None, 18, 18, 512)       2359808   \n",
            "_________________________________________________________________\n",
            "block4_conv3 (Conv2D)        (None, 18, 18, 512)       2359808   \n",
            "_________________________________________________________________\n",
            "block4_pool (MaxPooling2D)   (None, 9, 9, 512)         0         \n",
            "_________________________________________________________________\n",
            "block5_conv1 (Conv2D)        (None, 9, 9, 512)         2359808   \n",
            "_________________________________________________________________\n",
            "block5_conv2 (Conv2D)        (None, 9, 9, 512)         2359808   \n",
            "_________________________________________________________________\n",
            "block5_conv3 (Conv2D)        (None, 9, 9, 512)         2359808   \n",
            "_________________________________________________________________\n",
            "block5_pool (MaxPooling2D)   (None, 4, 4, 512)         0         \n",
            "=================================================================\n",
            "Total params: 14,714,688\n",
            "Trainable params: 7,079,424\n",
            "Non-trainable params: 7,635,264\n",
            "_________________________________________________________________\n"
          ],
          "name": "stdout"
        }
      ]
    },
    {
      "cell_type": "code",
      "metadata": {
        "id": "tc_juBBL1U-2",
        "outputId": "e40758d3-c288-4b17-f2bd-3e235200669b",
        "colab": {
          "base_uri": "https://localhost:8080/"
        }
      },
      "source": [
        "#Listing 5.21 Training the model end to end with a frozen convolutional base\n",
        "from keras.preprocessing.image import ImageDataGenerator\n",
        "from keras import optimizers\n",
        "train_datagen = ImageDataGenerator(\n",
        "    rescale=1./255,\n",
        "    rotation_range=40,\n",
        "    width_shift_range=0.2,\n",
        "    height_shift_range=0.2,\n",
        "    shear_range=0.2,\n",
        "    zoom_range=0.2,\n",
        "    horizontal_flip=True,\n",
        "    fill_mode='nearest')\n",
        "\n",
        "\n",
        "test_datagen = ImageDataGenerator(rescale=1./255)\n",
        "\n",
        "\n",
        "train_generator = train_datagen.flow_from_directory(\n",
        "    train_dir,\n",
        "    target_size=(150, 150),\n",
        "    batch_size=20,\n",
        "    class_mode='binary')\n",
        "\n",
        "\n",
        "validation_generator = test_datagen.flow_from_directory(\n",
        "    val_dir,\n",
        "    target_size=(150, 150),\n",
        "    batch_size=3,\n",
        "    class_mode='binary')\n",
        "\n",
        "model.compile(loss='binary_crossentropy',\n",
        "    optimizer=optimizers.RMSprop(lr=2e-5),\n",
        "    metrics=['acc'])\n",
        "\n",
        "history = model.fit(\n",
        "    train_generator,\n",
        "    steps_per_epoch=int(2000/40),\n",
        "    epochs=30,\n",
        "    validation_data=validation_generator,\n",
        "    validation_steps=int(300/15))"
      ],
      "execution_count": null,
      "outputs": [
        {
          "output_type": "stream",
          "text": [
            "Found 4000 images belonging to 2 classes.\n",
            "Found 300 images belonging to 2 classes.\n",
            "Epoch 1/30\n",
            "50/50 [==============================] - 227s 5s/step - loss: 0.3720 - acc: 0.8350 - val_loss: 0.2326 - val_acc: 0.9133\n",
            "Epoch 2/30\n",
            "50/50 [==============================] - 232s 5s/step - loss: 0.2958 - acc: 0.8770 - val_loss: 0.5284 - val_acc: 0.7700\n",
            "Epoch 3/30\n",
            "50/50 [==============================] - 228s 5s/step - loss: 0.3309 - acc: 0.8520 - val_loss: 0.1661 - val_acc: 0.9567\n",
            "Epoch 4/30\n",
            "50/50 [==============================] - 228s 5s/step - loss: 0.2979 - acc: 0.8800 - val_loss: 0.2071 - val_acc: 0.9167\n",
            "Epoch 5/30\n",
            "50/50 [==============================] - 232s 5s/step - loss: 0.2550 - acc: 0.8960 - val_loss: 0.3077 - val_acc: 0.8533\n",
            "Epoch 6/30\n",
            "50/50 [==============================] - 226s 5s/step - loss: 0.2589 - acc: 0.8920 - val_loss: 0.3710 - val_acc: 0.8400\n",
            "Epoch 7/30\n",
            "50/50 [==============================] - 226s 5s/step - loss: 0.2430 - acc: 0.9020 - val_loss: 0.1898 - val_acc: 0.9233\n",
            "Epoch 8/30\n",
            "50/50 [==============================] - 226s 5s/step - loss: 0.2486 - acc: 0.9010 - val_loss: 0.4722 - val_acc: 0.8100\n",
            "Epoch 9/30\n",
            "50/50 [==============================] - 226s 5s/step - loss: 0.2225 - acc: 0.9090 - val_loss: 0.3707 - val_acc: 0.8400\n",
            "Epoch 10/30\n",
            "50/50 [==============================] - 226s 5s/step - loss: 0.2202 - acc: 0.9130 - val_loss: 0.1890 - val_acc: 0.9300\n",
            "Epoch 11/30\n",
            "50/50 [==============================] - 226s 5s/step - loss: 0.2057 - acc: 0.9220 - val_loss: 0.1557 - val_acc: 0.9533\n",
            "Epoch 12/30\n",
            "50/50 [==============================] - 226s 5s/step - loss: 0.2310 - acc: 0.9080 - val_loss: 0.2805 - val_acc: 0.8767\n",
            "Epoch 13/30\n",
            "50/50 [==============================] - 226s 5s/step - loss: 0.2272 - acc: 0.9050 - val_loss: 0.2592 - val_acc: 0.8767\n",
            "Epoch 14/30\n",
            "50/50 [==============================] - 230s 5s/step - loss: 0.1914 - acc: 0.9190 - val_loss: 0.1117 - val_acc: 0.9633\n",
            "Epoch 15/30\n",
            "50/50 [==============================] - 226s 5s/step - loss: 0.2037 - acc: 0.9210 - val_loss: 0.1426 - val_acc: 0.9667\n",
            "Epoch 16/30\n",
            "50/50 [==============================] - 226s 5s/step - loss: 0.1748 - acc: 0.9340 - val_loss: 0.1672 - val_acc: 0.9400\n",
            "Epoch 17/30\n",
            "50/50 [==============================] - 226s 5s/step - loss: 0.1899 - acc: 0.9220 - val_loss: 0.1445 - val_acc: 0.9467\n",
            "Epoch 18/30\n",
            "50/50 [==============================] - 226s 5s/step - loss: 0.1800 - acc: 0.9250 - val_loss: 0.1912 - val_acc: 0.9133\n",
            "Epoch 19/30\n",
            "50/50 [==============================] - 230s 5s/step - loss: 0.2178 - acc: 0.9160 - val_loss: 0.6291 - val_acc: 0.7633\n",
            "Epoch 20/30\n",
            "50/50 [==============================] - 228s 5s/step - loss: 0.2036 - acc: 0.9220 - val_loss: 0.1326 - val_acc: 0.9500\n",
            "Epoch 21/30\n",
            "50/50 [==============================] - 227s 5s/step - loss: 0.1872 - acc: 0.9270 - val_loss: 0.1077 - val_acc: 0.9667\n",
            "Epoch 22/30\n",
            "50/50 [==============================] - 232s 5s/step - loss: 0.1732 - acc: 0.9310 - val_loss: 0.1176 - val_acc: 0.9600\n",
            "Epoch 23/30\n",
            "50/50 [==============================] - 226s 5s/step - loss: 0.1916 - acc: 0.9230 - val_loss: 0.1080 - val_acc: 0.9667\n",
            "Epoch 24/30\n",
            "50/50 [==============================] - 226s 5s/step - loss: 0.1724 - acc: 0.9320 - val_loss: 0.1525 - val_acc: 0.9500\n",
            "Epoch 25/30\n",
            "50/50 [==============================] - 231s 5s/step - loss: 0.1774 - acc: 0.9360 - val_loss: 0.2836 - val_acc: 0.8900\n",
            "Epoch 26/30\n",
            "50/50 [==============================] - 225s 5s/step - loss: 0.1604 - acc: 0.9330 - val_loss: 0.1667 - val_acc: 0.9333\n",
            "Epoch 27/30\n",
            "50/50 [==============================] - 230s 5s/step - loss: 0.1508 - acc: 0.9440 - val_loss: 0.1182 - val_acc: 0.9600\n",
            "Epoch 28/30\n",
            "50/50 [==============================] - 226s 5s/step - loss: 0.1603 - acc: 0.9350 - val_loss: 0.1561 - val_acc: 0.9467\n",
            "Epoch 29/30\n",
            "50/50 [==============================] - 226s 5s/step - loss: 0.1856 - acc: 0.9280 - val_loss: 0.2295 - val_acc: 0.9167\n",
            "Epoch 30/30\n",
            "50/50 [==============================] - 226s 5s/step - loss: 0.1699 - acc: 0.9400 - val_loss: 0.1716 - val_acc: 0.9367\n"
          ],
          "name": "stdout"
        }
      ]
    },
    {
      "cell_type": "code",
      "metadata": {
        "id": "_K95Cyyx21E9"
      },
      "source": [
        "import pickle\n",
        "\n",
        "modelStoragePath = \"/content/drive/My Drive/beautiful_and_average_dataset/\"\n",
        "\n",
        "def saveData(model, history, iteration):\n",
        "    modelFile = modelStoragePath + \"final_pretrianed_model_beautiful_vs_avg\" + str(iteration).strip() + \".h5\"\n",
        "    historyFile = modelStoragePath + \"final_pretrained_History_beautiful_vs_avg\" + str(iteration).strip() + \".pkle\"\n",
        "    model.save(modelFile)\n",
        "    #saving history file too\n",
        "    with open(historyFile, 'wb') as file_pi:\n",
        "        pickle.dump(history.history, file_pi)\n",
        "    return modelFile, historyFile\n",
        "\n",
        "import tensorflow.keras.models\n",
        "def loadData(iteration):\n",
        "    modelFile = modelStoragePath + \"final_pretrianed_model_beautiful_vs_avg\" + str(iteration).strip() + \".h5\"\n",
        "    historyFile = modelStoragePath + \"final_pretrained_History_beautiful_vs_avg\" + str(iteration).strip() + \".pkle\"\n",
        "    model = models.load_model(modelFile)\n",
        "    with open(historyFile, 'rb') as file_pi:\n",
        "        history = pickle.load(file_pi)\n",
        "    return model, history"
      ],
      "execution_count": null,
      "outputs": []
    },
    {
      "cell_type": "code",
      "metadata": {
        "id": "a1RPswSd60pG",
        "outputId": "e1e59e66-50c1-4fbd-c395-447ed6a1dead",
        "colab": {
          "base_uri": "https://localhost:8080/"
        }
      },
      "source": [
        "print(type(history))\n",
        "modelFile, HistoryFile = saveData(model, history, iteration=1)\n",
        "print(modelFile, HistoryFile, \"Saved\")"
      ],
      "execution_count": null,
      "outputs": [
        {
          "output_type": "stream",
          "text": [
            "<class 'tensorflow.python.keras.callbacks.History'>\n",
            "/content/drive/My Drive/beautiful_and_average_dataset/final_pretrianed_model_beautiful_vs_avg1.h5 /content/drive/My Drive/beautiful_and_average_dataset/final_pretrained_History_beautiful_vs_avg1.pkle Saved\n"
          ],
          "name": "stdout"
        }
      ]
    },
    {
      "cell_type": "code",
      "metadata": {
        "id": "SzPJ5pnmUgki",
        "outputId": "b2d658da-3ed9-44ff-d725-8d10cbdd3c0b",
        "colab": {
          "base_uri": "https://localhost:8080/",
          "height": 545
        }
      },
      "source": [
        " "
      ],
      "execution_count": null,
      "outputs": [
        {
          "output_type": "display_data",
          "data": {
            "image/png": "[encoded data removed]",
            "text/plain": [
              "<Figure size 432x288 with 1 Axes>"
            ]
          },
          "metadata": {
            "tags": [],
            "needs_background": "light"
          }
        },
        {
          "output_type": "display_data",
          "data": {
            "image/png": "[encoded data removed]",
            "text/plain": [
              "<Figure size 432x288 with 1 Axes>"
            ]
          },
          "metadata": {
            "tags": [],
            "needs_background": "light"
          }
        }
      ]
    },
    {
      "cell_type": "markdown",
      "metadata": {
        "id": "YSsZJkjvKTql"
      },
      "source": [
        "# Steps per epochs and different hyper-parameters are changed"
      ]
    },
    {
      "cell_type": "code",
      "metadata": {
        "id": "oEd5myIQKTIR",
        "outputId": "ff671f4c-9421-45cc-cf12-69120af8a3e8",
        "colab": {
          "base_uri": "https://localhost:8080/"
        }
      },
      "source": [
        "model.summary()"
      ],
      "execution_count": null,
      "outputs": [
        {
          "output_type": "stream",
          "text": [
            "Model: \"sequential_1\"\n",
            "_________________________________________________________________\n",
            "Layer (type)                 Output Shape              Param #   \n",
            "=================================================================\n",
            "vgg16 (Functional)           (None, 4, 4, 512)         14714688  \n",
            "_________________________________________________________________\n",
            "flatten (Flatten)            (None, 8192)              0         \n",
            "_________________________________________________________________\n",
            "dense_2 (Dense)              (None, 256)               2097408   \n",
            "_________________________________________________________________\n",
            "dense_3 (Dense)              (None, 1)                 257       \n",
            "=================================================================\n",
            "Total params: 16,812,353\n",
            "Trainable params: 9,177,089\n",
            "Non-trainable params: 7,635,264\n",
            "_________________________________________________________________\n"
          ],
          "name": "stdout"
        }
      ]
    },
    {
      "cell_type": "code",
      "metadata": {
        "id": "PvlG5lCRUhD1",
        "outputId": "156f94b1-5395-4b7f-b634-e50a9ed518e0",
        "colab": {
          "base_uri": "https://localhost:8080/"
        }
      },
      "source": [
        "#Listing 5.21 Training the model end to end with a frozen convolutional base\n",
        "from keras.preprocessing.image import ImageDataGenerator\n",
        "from keras import optimizers\n",
        "train_datagen = ImageDataGenerator(\n",
        "    rescale=1./255,\n",
        "    rotation_range=40,\n",
        "    width_shift_range=0.2,\n",
        "    height_shift_range=0.2,\n",
        "    shear_range=0.2,\n",
        "    zoom_range=0.2,\n",
        "    horizontal_flip=True,\n",
        "    fill_mode='nearest')\n",
        "\n",
        "\n",
        "test_datagen = ImageDataGenerator(rescale=1./255)\n",
        "\n",
        "\n",
        "train_generator = train_datagen.flow_from_directory(\n",
        "    train_dir,\n",
        "    target_size=(150, 150),\n",
        "    batch_size=20,\n",
        "    class_mode='binary')\n",
        "\n",
        "\n",
        "validation_generator = test_datagen.flow_from_directory(\n",
        "    val_dir,\n",
        "    target_size=(150, 150),\n",
        "    batch_size=10,\n",
        "    class_mode='binary')\n",
        "\n",
        "model.compile(loss='binary_crossentropy',\n",
        "    optimizer=optimizers.RMSprop(lr=1e-5),\n",
        "    metrics=['acc'])\n",
        "\n",
        "history = model.fit(\n",
        "    train_generator,\n",
        "    steps_per_epoch=int(2000/20),\n",
        "    epochs=30,\n",
        "    validation_data=validation_generator,\n",
        "    validation_steps=int(300/10))"
      ],
      "execution_count": null,
      "outputs": [
        {
          "output_type": "stream",
          "text": [
            "Found 4000 images belonging to 2 classes.\n",
            "Found 300 images belonging to 2 classes.\n",
            "Epoch 1/30\n",
            "100/100 [==============================] - 602s 6s/step - loss: 0.5204 - acc: 0.7470 - val_loss: 0.3694 - val_acc: 0.8200\n",
            "Epoch 2/30\n",
            "100/100 [==============================] - 589s 6s/step - loss: 0.3785 - acc: 0.8435 - val_loss: 0.3677 - val_acc: 0.8267\n",
            "Epoch 3/30\n",
            "100/100 [==============================] - 589s 6s/step - loss: 0.3067 - acc: 0.8700 - val_loss: 0.1911 - val_acc: 0.9500\n",
            "Epoch 4/30\n",
            "100/100 [==============================] - 588s 6s/step - loss: 0.2980 - acc: 0.8770 - val_loss: 0.1839 - val_acc: 0.9433\n",
            "Epoch 5/30\n",
            "100/100 [==============================] - 588s 6s/step - loss: 0.2636 - acc: 0.8895 - val_loss: 0.1609 - val_acc: 0.9567\n",
            "Epoch 6/30\n",
            "100/100 [==============================] - 592s 6s/step - loss: 0.2610 - acc: 0.8950 - val_loss: 0.2227 - val_acc: 0.9067\n",
            "Epoch 7/30\n",
            "100/100 [==============================] - 588s 6s/step - loss: 0.2477 - acc: 0.9120 - val_loss: 0.2237 - val_acc: 0.9133\n",
            "Epoch 8/30\n",
            "100/100 [==============================] - 588s 6s/step - loss: 0.2282 - acc: 0.9065 - val_loss: 0.1982 - val_acc: 0.9167\n",
            "Epoch 9/30\n",
            "100/100 [==============================] - 592s 6s/step - loss: 0.2076 - acc: 0.9215 - val_loss: 0.4136 - val_acc: 0.8067\n",
            "Epoch 10/30\n",
            "100/100 [==============================] - 593s 6s/step - loss: 0.2134 - acc: 0.9135 - val_loss: 0.3402 - val_acc: 0.8467\n",
            "Epoch 11/30\n",
            "100/100 [==============================] - 593s 6s/step - loss: 0.2173 - acc: 0.9095 - val_loss: 0.1344 - val_acc: 0.9433\n",
            "Epoch 12/30\n",
            "100/100 [==============================] - 594s 6s/step - loss: 0.2118 - acc: 0.9155 - val_loss: 0.3994 - val_acc: 0.8100\n",
            "Epoch 13/30\n",
            "100/100 [==============================] - 593s 6s/step - loss: 0.1823 - acc: 0.9275 - val_loss: 0.1896 - val_acc: 0.9133\n",
            "Epoch 14/30\n",
            "100/100 [==============================] - 593s 6s/step - loss: 0.1851 - acc: 0.9260 - val_loss: 0.1659 - val_acc: 0.9267\n",
            "Epoch 15/30\n",
            "100/100 [==============================] - 594s 6s/step - loss: 0.1777 - acc: 0.9275 - val_loss: 0.2470 - val_acc: 0.8867\n",
            "Epoch 16/30\n",
            "100/100 [==============================] - 594s 6s/step - loss: 0.1894 - acc: 0.9310 - val_loss: 0.1477 - val_acc: 0.9333\n",
            "Epoch 17/30\n",
            "100/100 [==============================] - 594s 6s/step - loss: 0.1651 - acc: 0.9340 - val_loss: 0.1006 - val_acc: 0.9533\n",
            "Epoch 18/30\n",
            "100/100 [==============================] - 596s 6s/step - loss: 0.1983 - acc: 0.9220 - val_loss: 0.0894 - val_acc: 0.9767\n",
            "Epoch 19/30\n",
            "100/100 [==============================] - 601s 6s/step - loss: 0.1650 - acc: 0.9335 - val_loss: 0.3714 - val_acc: 0.8300\n",
            "Epoch 20/30\n",
            "100/100 [==============================] - 616s 6s/step - loss: 0.1650 - acc: 0.9385 - val_loss: 0.1677 - val_acc: 0.9333\n",
            "Epoch 21/30\n",
            "100/100 [==============================] - 619s 6s/step - loss: 0.1661 - acc: 0.9320 - val_loss: 0.1178 - val_acc: 0.9467\n",
            "Epoch 22/30\n",
            "100/100 [==============================] - 616s 6s/step - loss: 0.1715 - acc: 0.9360 - val_loss: 0.0875 - val_acc: 0.9733\n",
            "Epoch 23/30\n",
            "100/100 [==============================] - 621s 6s/step - loss: 0.1561 - acc: 0.9365 - val_loss: 0.1549 - val_acc: 0.9400\n",
            "Epoch 24/30\n",
            "100/100 [==============================] - 617s 6s/step - loss: 0.1567 - acc: 0.9345 - val_loss: 0.1328 - val_acc: 0.9433\n",
            "Epoch 25/30\n",
            "100/100 [==============================] - 617s 6s/step - loss: 0.1451 - acc: 0.9440 - val_loss: 0.0926 - val_acc: 0.9733\n",
            "Epoch 26/30\n",
            "100/100 [==============================] - 635s 6s/step - loss: 0.1544 - acc: 0.9470 - val_loss: 0.2210 - val_acc: 0.9033\n",
            "Epoch 27/30\n",
            "100/100 [==============================] - 631s 6s/step - loss: 0.1474 - acc: 0.9495 - val_loss: 0.1258 - val_acc: 0.9433\n",
            "Epoch 28/30\n",
            "100/100 [==============================] - 633s 6s/step - loss: 0.1560 - acc: 0.9440 - val_loss: 0.0959 - val_acc: 0.9633\n",
            "Epoch 29/30\n",
            "100/100 [==============================] - 633s 6s/step - loss: 0.1516 - acc: 0.9445 - val_loss: 0.0865 - val_acc: 0.9700\n",
            "Epoch 30/30\n",
            "100/100 [==============================] - 634s 6s/step - loss: 0.1516 - acc: 0.9410 - val_loss: 0.0743 - val_acc: 0.9800\n"
          ],
          "name": "stdout"
        }
      ]
    },
    {
      "cell_type": "code",
      "metadata": {
        "id": "8umlkd99LeI-"
      },
      "source": [
        ""
      ],
      "execution_count": null,
      "outputs": []
    },
    {
      "cell_type": "code",
      "metadata": {
        "id": "sAkUZN46KbMY"
      },
      "source": [
        "import pickle\n",
        "\n",
        "modelStoragePath = \"/content/drive/My Drive/beautiful_and_average_dataset/\"\n",
        "\n",
        "def saveData(model, history, iteration):\n",
        "    modelFile = modelStoragePath + \"upgdated_pretrianed_model_beautiful_vs_avg\" + str(iteration).strip() + \".h5\"\n",
        "    historyFile = modelStoragePath + \"updated_pretrained_History_beautiful_vs_avg\" + str(iteration).strip() + \".pkle\"\n",
        "    model.save(modelFile)\n",
        "    #saving history file too\n",
        "    with open(historyFile, 'wb') as file_pi:\n",
        "        pickle.dump(history.history, file_pi)\n",
        "    return modelFile, historyFile\n",
        "\n",
        "import tensorflow.keras.models\n",
        "def loadData(iteration):\n",
        "    modelFile = modelStoragePath + \"upgdated_pretrianed_model_beautiful_vs_avg\" + str(iteration).strip() + \".h5\"\n",
        "    historyFile = modelStoragePath + \"updated_pretrained_History_beautiful_vs_avg\" + str(iteration).strip() + \".pkle\"\n",
        "    model = models.load_model(modelFile)\n",
        "    with open(historyFile, 'rb') as file_pi:\n",
        "        history = pickle.load(file_pi)\n",
        "    return model, history"
      ],
      "execution_count": null,
      "outputs": []
    },
    {
      "cell_type": "code",
      "metadata": {
        "id": "AQAsfGhOKbMg",
        "outputId": "2784e672-7453-47aa-aec6-9150a8d93b47",
        "colab": {
          "base_uri": "https://localhost:8080/"
        }
      },
      "source": [
        "print(type(history))\n",
        "modelFile, HistoryFile = saveData(model, history, iteration=1)\n",
        "print(modelFile, HistoryFile, \"Saved\")"
      ],
      "execution_count": null,
      "outputs": [
        {
          "output_type": "stream",
          "text": [
            "<class 'tensorflow.python.keras.callbacks.History'>\n",
            "/content/drive/My Drive/beautiful_and_average_dataset/upgdated_pretrianed_model_beautiful_vs_avg1.h5 /content/drive/My Drive/beautiful_and_average_dataset/updated_pretrained_History_beautiful_vs_avg1.pkle Saved\n"
          ],
          "name": "stdout"
        }
      ]
    },
    {
      "cell_type": "code",
      "metadata": {
        "id": "YE2v_vSkKlG5",
        "outputId": "3b47735c-f236-4175-e818-9267966d0a0e",
        "colab": {
          "base_uri": "https://localhost:8080/",
          "height": 545
        }
      },
      "source": [
        "#Listing 5.19 Plotting the results\n",
        "import matplotlib.pyplot as plt\n",
        "acc = history.history['acc']\n",
        "val_acc = history.history['val_acc']\n",
        "loss = history.history['loss']\n",
        "val_loss = history.history['val_loss']\n",
        "epochs = range(1, len(acc) + 1)\n",
        "plt.plot(epochs, acc, 'bo', label='Training acc')\n",
        "plt.plot(epochs, val_acc, 'b', label='Validation acc')\n",
        "plt.title('Training and validation accuracy')\n",
        "plt.legend()\n",
        "plt.figure()\n",
        "plt.plot(epochs, loss, 'bo', label='Training loss')\n",
        "plt.plot(epochs, val_loss, 'b', label='Validation loss')\n",
        "plt.title('Training and validation loss')\n",
        "plt.legend()\n",
        "plt.show()"
      ],
      "execution_count": null,
      "outputs": [
        {
          "output_type": "display_data",
          "data": {
            "image/png": "[encoded data removed]",
            "text/plain": [
              "<Figure size 432x288 with 1 Axes>"
            ]
          },
          "metadata": {
            "tags": [],
            "needs_background": "light"
          }
        },
        {
          "output_type": "display_data",
          "data": {
            "image/png": "[encoded data removed]",
            "text/plain": [
              "<Figure size 432x288 with 1 Axes>"
            ]
          },
          "metadata": {
            "tags": [],
            "needs_background": "light"
          }
        }
      ]
    },
    {
      "cell_type": "code",
      "metadata": {
        "id": "Hfv6xu6cbKH7"
      },
      "source": [
        ""
      ],
      "execution_count": null,
      "outputs": []
    }
  ]
}